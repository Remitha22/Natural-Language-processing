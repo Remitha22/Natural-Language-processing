{
 "cells": [
  {
   "cell_type": "code",
   "execution_count": 8,
   "metadata": {},
   "outputs": [
    {
     "name": "stdout",
     "output_type": "stream",
     "text": [
      "number of documents 39\n",
      "Topic 0:\n",
      "tax equity cost risk firms year earnings market returns return value firm rate use model\n",
      "Topic 1:\n",
      "tax permission value cost equity rate reproduction debt earnings market year firm corporate risk estimates\n",
      "Topic 2:\n",
      "dividend tax rate dividends earnings market value return percent rates growth period expected investment yield\n",
      "Topic 3:\n",
      "tax debt firm taxes rate firms value income corporate financial journal gains accounting rates marginal\n",
      "Topic 4:\n",
      "tax firms model equity risk firm year value cost returns market rate sample earnings dividend\n",
      "Topic 5:\n",
      "tax dividend equity corporate debt rate firm value taxes firms dividends income journal rates year\n",
      "Topic 6:\n",
      "year equity cost market returns value stock firm regressions firms tax earnings average size return\n",
      "Topic 7:\n",
      "cost earnings risk year equity estimates growth model expected firms market accounting returns firm value\n",
      "Topic 8:\n",
      "tax equity dividend cost rate yield year taxes debt model implied firm rates effect leverage\n",
      "Topic 9:\n",
      "market returns stock value equity tax cost model risk average debt table regressions firm year\n"
     ]
    }
   ],
   "source": [
    "from sklearn.feature_extraction.text import TfidfVectorizer, CountVectorizer\n",
    "import gensim\n",
    "import glob\n",
    "from sklearn.decomposition import LatentDirichletAllocation\n",
    "\n",
    "\n",
    "def display_topics(model, feature_names, no_top_words):\n",
    "    for topic_idx, topic in enumerate(model.components_):\n",
    "        print (\"Topic %d:\" % (topic_idx))\n",
    "        print( \" \".join([feature_names[i]\n",
    "                        for i in topic.argsort()[:-no_top_words - 1:-1]]))\n",
    "\n",
    "        \n",
    "        \n",
    "        \n",
    "        \n",
    "        \n",
    "file_names=glob.glob(\"G:/remi pro/21/*.txt*\")\n",
    "raw_documents=[]\n",
    "for  file in file_names:\n",
    "    try:\n",
    "        with open(file,\"r\") as f: raw_documents.append(f.read())\n",
    "    except:\n",
    "        pass\n",
    "print(\"number of documents\",len(raw_documents))\n",
    "\n",
    "no_features = 1000\n",
    "\n",
    "\n",
    "\n",
    "\n",
    "# LDA can only use raw term counts for LDA because it is a probabilistic graphical model\n",
    "tf_vectorizer = CountVectorizer(max_df=0.95, min_df=2, max_features=no_features, stop_words='english')\n",
    "tf = tf_vectorizer.fit_transform(raw_documents)\n",
    "tf_feature_names = tf_vectorizer.get_feature_names()\n",
    "\n",
    "no_topics =10\n",
    "\n",
    "\n",
    "# Run LDA\n",
    "lda = LatentDirichletAllocation(n_components=no_topics, max_iter=5, learning_method='online', learning_offset=50.,random_state=0).fit(tf)\n",
    "\n",
    "no_top_words =15\n",
    "\n",
    "display_topics(lda, tf_feature_names, no_top_words)"
   ]
  },
  {
   "cell_type": "code",
   "execution_count": null,
   "metadata": {},
   "outputs": [],
   "source": []
  }
 ],
 "metadata": {
  "kernelspec": {
   "display_name": "Python 3",
   "language": "python",
   "name": "python3"
  },
  "language_info": {
   "codemirror_mode": {
    "name": "ipython",
    "version": 3
   },
   "file_extension": ".py",
   "mimetype": "text/x-python",
   "name": "python",
   "nbconvert_exporter": "python",
   "pygments_lexer": "ipython3",
   "version": "3.7.4"
  }
 },
 "nbformat": 4,
 "nbformat_minor": 2
}
