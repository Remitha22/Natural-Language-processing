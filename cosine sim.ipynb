{
 "cells": [
  {
   "cell_type": "code",
   "execution_count": 11,
   "metadata": {},
   "outputs": [],
   "source": [
    "import gensim"
   ]
  },
  {
   "cell_type": "code",
   "execution_count": 12,
   "metadata": {},
   "outputs": [],
   "source": [
    "import glob"
   ]
  },
  {
   "cell_type": "code",
   "execution_count": 13,
   "metadata": {},
   "outputs": [],
   "source": [
    "file_names=glob.glob(\"G:/remi pro/21/*.txt*\")"
   ]
  },
  {
   "cell_type": "code",
   "execution_count": 14,
   "metadata": {},
   "outputs": [
    {
     "data": {
      "text/plain": [
       "['G:/remi pro/21\\\\021.txt',\n",
       " 'G:/remi pro/21\\\\21 (1).txt',\n",
       " 'G:/remi pro/21\\\\21 (10).txt',\n",
       " 'G:/remi pro/21\\\\21 (11).txt',\n",
       " 'G:/remi pro/21\\\\21 (12).txt',\n",
       " 'G:/remi pro/21\\\\21 (13).txt',\n",
       " 'G:/remi pro/21\\\\21 (14).txt',\n",
       " 'G:/remi pro/21\\\\21 (15).txt',\n",
       " 'G:/remi pro/21\\\\21 (16).txt',\n",
       " 'G:/remi pro/21\\\\21 (17).txt',\n",
       " 'G:/remi pro/21\\\\21 (18).txt',\n",
       " 'G:/remi pro/21\\\\21 (19).txt',\n",
       " 'G:/remi pro/21\\\\21 (2).txt',\n",
       " 'G:/remi pro/21\\\\21 (20).txt',\n",
       " 'G:/remi pro/21\\\\21 (21).txt',\n",
       " 'G:/remi pro/21\\\\21 (22).txt',\n",
       " 'G:/remi pro/21\\\\21 (23).txt',\n",
       " 'G:/remi pro/21\\\\21 (24).txt',\n",
       " 'G:/remi pro/21\\\\21 (25).txt',\n",
       " 'G:/remi pro/21\\\\21 (26).txt',\n",
       " 'G:/remi pro/21\\\\21 (27).txt',\n",
       " 'G:/remi pro/21\\\\21 (28).txt',\n",
       " 'G:/remi pro/21\\\\21 (29).txt',\n",
       " 'G:/remi pro/21\\\\21 (3).txt',\n",
       " 'G:/remi pro/21\\\\21 (30).txt',\n",
       " 'G:/remi pro/21\\\\21 (31).txt',\n",
       " 'G:/remi pro/21\\\\21 (32).txt',\n",
       " 'G:/remi pro/21\\\\21 (33).txt',\n",
       " 'G:/remi pro/21\\\\21 (34).txt',\n",
       " 'G:/remi pro/21\\\\21 (35).txt',\n",
       " 'G:/remi pro/21\\\\21 (36).txt',\n",
       " 'G:/remi pro/21\\\\21 (37).txt',\n",
       " 'G:/remi pro/21\\\\21 (38).txt',\n",
       " 'G:/remi pro/21\\\\21 (39).txt',\n",
       " 'G:/remi pro/21\\\\21 (4).txt',\n",
       " 'G:/remi pro/21\\\\21 (40).txt',\n",
       " 'G:/remi pro/21\\\\21 (5).txt',\n",
       " 'G:/remi pro/21\\\\21 (6).txt',\n",
       " 'G:/remi pro/21\\\\21 (7).txt',\n",
       " 'G:/remi pro/21\\\\21 (8).txt',\n",
       " 'G:/remi pro/21\\\\21 (9).txt']"
      ]
     },
     "execution_count": 14,
     "metadata": {},
     "output_type": "execute_result"
    }
   ],
   "source": [
    "file_names"
   ]
  },
  {
   "cell_type": "code",
   "execution_count": 15,
   "metadata": {},
   "outputs": [],
   "source": [
    "raw_documents=[]\n",
    "for  file in file_names:\n",
    "    try:\n",
    "        with open(file,\"r\") as f: raw_documents.append(f.read())\n",
    "    except:\n",
    "        pass"
   ]
  },
  {
   "cell_type": "code",
   "execution_count": 16,
   "metadata": {},
   "outputs": [
    {
     "name": "stdout",
     "output_type": "stream",
     "text": [
      "number of documents 41\n"
     ]
    }
   ],
   "source": [
    "print(\"number of documents\",len(raw_documents))"
   ]
  },
  {
   "cell_type": "code",
   "execution_count": 17,
   "metadata": {},
   "outputs": [
    {
     "name": "stdout",
     "output_type": "stream",
     "text": [
      "(41, 22095)\n"
     ]
    }
   ],
   "source": [
    "from sklearn.feature_extraction.text import TfidfVectorizer\n",
    "tfidf_vectorizer = TfidfVectorizer()\n",
    "tfidf_matrix = tfidf_vectorizer.fit_transform(raw_documents)\n",
    "print (tfidf_matrix.shape)\n"
   ]
  },
  {
   "cell_type": "code",
   "execution_count": 18,
   "metadata": {},
   "outputs": [
    {
     "data": {
      "text/plain": [
       "array([[1.        , 0.8159497 , 0.86129243, 0.75171918, 0.79471822,\n",
       "        0.80216128, 0.39412619, 0.79101302, 0.77259018, 0.5048658 ,\n",
       "        0.78621105, 0.77568707, 0.8278354 , 0.75869129, 0.12003686,\n",
       "        0.72623519, 0.85529599, 0.80635646, 0.84516084, 0.65562229,\n",
       "        0.83168197, 0.80413633, 0.84499141, 0.81557721, 0.        ,\n",
       "        0.77096434, 0.69830345, 0.85578156, 0.85050252, 0.82844632,\n",
       "        0.84711642, 0.78596392, 0.81701414, 0.80277666, 0.77110282,\n",
       "        0.32114742, 0.79287165, 0.72249752, 0.78408573, 0.80042967,\n",
       "        0.76081984]])"
      ]
     },
     "execution_count": 18,
     "metadata": {},
     "output_type": "execute_result"
    }
   ],
   "source": [
    "from sklearn.metrics.pairwise import cosine_similarity\n",
    "cosine_similarity(tfidf_matrix[0:1], tfidf_matrix)"
   ]
  },
  {
   "cell_type": "code",
   "execution_count": null,
   "metadata": {},
   "outputs": [],
   "source": []
  }
 ],
 "metadata": {
  "kernelspec": {
   "display_name": "Python 3",
   "language": "python",
   "name": "python3"
  },
  "language_info": {
   "codemirror_mode": {
    "name": "ipython",
    "version": 3
   },
   "file_extension": ".py",
   "mimetype": "text/x-python",
   "name": "python",
   "nbconvert_exporter": "python",
   "pygments_lexer": "ipython3",
   "version": "3.7.4"
  }
 },
 "nbformat": 4,
 "nbformat_minor": 2
}
